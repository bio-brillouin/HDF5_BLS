{
 "cells": [
  {
   "cell_type": "markdown",
   "metadata": {},
   "source": [
    "# HDF5_BLS Treatment algorithms\n",
    "\n",
    "## Introduction\n",
    "\n",
    "This notebook is meant to detail the treatment algorithms developped in the HDF5_BLS library to treat Brillouin spectra.\n",
    "\n",
    "\n",
    "\n"
   ]
  }
 ],
 "metadata": {
  "language_info": {
   "name": "python"
  }
 },
 "nbformat": 4,
 "nbformat_minor": 2
}
