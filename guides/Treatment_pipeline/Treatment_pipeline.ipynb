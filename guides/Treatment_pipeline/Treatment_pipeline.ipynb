{
 "cells": [
  {
   "cell_type": "markdown",
   "metadata": {},
   "source": [
    "# Treatment pipeline\n",
    "\n",
    "## Introduction\n",
    "\n",
    "This notebook is a guide to the treatment pipeline followed to extract information from the Power Spectral Density (PSD) of Brillouin Scattered light. This notebook is meant to clarify the \"treat\" module of the HDF5_BLS package."
   ]
  },
  {
   "cell_type": "markdown",
   "metadata": {},
   "source": []
  }
 ],
 "metadata": {
  "language_info": {
   "name": "python"
  }
 },
 "nbformat": 4,
 "nbformat_minor": 2
}
